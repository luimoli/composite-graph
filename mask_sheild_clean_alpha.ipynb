{
 "cells": [
  {
   "cell_type": "code",
   "execution_count": 1,
   "metadata": {},
   "outputs": [],
   "source": [
    "import os\n",
    "import cv2\n",
    "import numpy as np\n",
    "from PIL import Image"
   ]
  },
  {
   "cell_type": "code",
   "execution_count": 11,
   "metadata": {},
   "outputs": [],
   "source": [
    "def trans_black(images_path, masks_path, masked_path):\n",
    "    for img_item in os.listdir(images_path):\n",
    "        #print(img_item)\n",
    "        img_path = os.path.join(images_path, img_item)\n",
    "        img = cv2.imread(img_path)        \n",
    "        mask_path = os.path.join(masks_path, img_item[:-4]+'.png')  # mask是.png格式的，image是.jpg格式的\n",
    "        #mask = cv2.imread(mask_path, cv2.IMREAD_GRAYSCALE)  # 将彩色mask以二值图像形式读取\n",
    "        print(mask_path)\n",
    "        mask = cv2.imread(mask_path)\n",
    "        masked = cv2.bitwise_and(img, mask)#不会出现边缘黑色锯齿\n",
    "        \n",
    "        #masked = cv2.add(img, np.zeros(np.shape(img), dtype=np.uint8), mask=mask)  \n",
    "        #将image的相素值和mask像素值相加得到结果,此结果会出现边缘非（0，0，0）的问题\n",
    "        \n",
    "        cv2.imwrite(os.path.join(masked_path, img_item[:-4]+'.png'), masked)"
   ]
  },
  {
   "cell_type": "code",
   "execution_count": 12,
   "metadata": {},
   "outputs": [],
   "source": [
    "#利用上面的trans_black的结果，将黑色像素点的alpha值设为透明（alpha = 0）\n",
    "def trans_alpha_pil(pic_path, new_path):\n",
    "    for p_item in os.listdir(pic_path):\n",
    "        p_path = os.path.join(pic_path, p_item)\n",
    "        pic = Image.open(p_path)\n",
    "        pic_tmp = pic.convert('RGBA')\n",
    "        pixdata = pic_tmp.load()\n",
    "        for y in range(pic_tmp.size[1]):\n",
    "            for x in range(pic_tmp.size[0]):\n",
    "                if pixdata[x,y][0] == 0 and pixdata[x,y][1] == 0 and pixdata[x,y][2] == 0:\n",
    "                   pixdata[x, y] = (0, 0, 0, 0)\n",
    "        pic_tmp.save(os.path.join(new_path, p_item),'png')"
   ]
  },
  {
   "cell_type": "code",
   "execution_count": 5,
   "metadata": {},
   "outputs": [],
   "source": [
    "def trans_alpha_channel(images_path, masks_path, res_path):\n",
    "    for img_item in os.listdir(images_path):\n",
    "        #print(img_item)\n",
    "        img_path = os.path.join(images_path, img_item)\n",
    "        img = cv2.imread(img_path)        \n",
    "        mask_path = os.path.join(masks_path, img_item[:-4]+'.png')  # mask是.png格式的，image是.jpg格式的\n",
    "        #mask = cv2.imread(mask_path, cv2.IMREAD_GRAYSCALE)  # 将彩色mask以二值图像形式读取\n",
    "        #print(mask_path)\n",
    "        if not os.path.exists(mask_path):\n",
    "                print(img_item,mask_path)\n",
    "        else:\n",
    "                mask = cv2.imread(mask_path)        \n",
    "                b, g, r = cv2.split(mask)\n",
    "                a = b\n",
    "                b_pic, g_pic, r_pic = cv2.split(img)\n",
    "                img_BGRA = cv2.merge((b_pic, g_pic, r_pic, a))\n",
    "                cv2.imwrite(os.path.join(res_path, img_item[:-4]+'.png'), img_BGRA)"
   ]
  },
  {
   "cell_type": "code",
   "execution_count": 6,
   "metadata": {},
   "outputs": [],
   "source": [
    "images_path = 'pic_src/'\n",
    "masks_path = 'pic_mask/'\n",
    "masked_path = 'pic_masked/'\n",
    "res_path = 'pic_alpha_masked/'\n",
    "trans_alpha_channel(images_path, masks_path, res_path)"
   ]
  },
  {
   "cell_type": "code",
   "execution_count": 10,
   "metadata": {},
   "outputs": [],
   "source": [
    "images_path = 'pic_src1/'\n",
    "masks_path = 'pic_mask1/'\n",
    "res_path = 'pic_alpha_masked1/'\n",
    "trans_alpha_channel(images_path, masks_path, res_path)"
   ]
  },
  {
   "cell_type": "code",
   "execution_count": 6,
   "metadata": {},
   "outputs": [
    {
     "name": "stdout",
     "output_type": "stream",
     "text": "COCO_train2014_000000080168.jpg /data0/liumengmeng/data/_a_gt_full/COCO_train2014_000000080168.png\n"
    }
   ],
   "source": [
    "images_path = '/data0/liumengmeng/data/_a_ori_full'\n",
    "masks_path = '/data0/liumengmeng/data/_a_gt_full'\n",
    "res_path = '/data0/liumengmeng/data/_a_src_full'\n",
    "trans_alpha_channel(images_path, masks_path, res_path)"
   ]
  },
  {
   "cell_type": "code",
   "execution_count": null,
   "metadata": {},
   "outputs": [],
   "source": []
  }
 ],
 "metadata": {
  "kernelspec": {
   "display_name": "Python 3",
   "language": "python",
   "name": "python3"
  },
  "language_info": {
   "codemirror_mode": {
    "name": "ipython",
    "version": 3
   },
   "file_extension": ".py",
   "mimetype": "text/x-python",
   "name": "python",
   "nbconvert_exporter": "python",
   "pygments_lexer": "ipython3",
   "version": "3.6.4"
  }
 },
 "nbformat": 4,
 "nbformat_minor": 2
}