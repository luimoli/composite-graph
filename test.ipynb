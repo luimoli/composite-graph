{
 "cells": [
  {
   "cell_type": "code",
   "execution_count": 1,
   "metadata": {},
   "outputs": [],
   "source": [
    "import os\n",
    "import cv2\n",
    "import numpy as np\n",
    "import random\n",
    "from PIL import Image\n",
    "import json"
   ]
  },
  {
   "cell_type": "code",
   "execution_count": 2,
   "metadata": {},
   "outputs": [],
   "source": [
    "fg = cv2.imread(\"test/src/COCO_train2014_000000001510.png\",-1)\n",
    "bg = cv2.imread(\"test/dst/bing_bg_1_0105.jpg\")\n",
    "ins = cv2.imread(\"test/ins/COCO_train2014_000000000853.png\",-1)\n",
    "gt = cv2.imread(\"test/gt/COCO_train2014_000000000450_test.png\",-1)"
   ]
  },
  {
   "cell_type": "code",
   "execution_count": 31,
   "metadata": {},
   "outputs": [
    {
     "name": "stdout",
     "output_type": "stream",
     "text": [
      "[  0 254   1]\n"
     ]
    },
    {
     "ename": "IndexError",
     "evalue": "index 255 is out of bounds for axis 0 with size 3",
     "output_type": "error",
     "traceback": [
      "\u001b[1;31m----------------------------------------------------------------------\u001b[0m",
      "\u001b[1;31mIndexError\u001b[0m                           Traceback (most recent call last)",
      "\u001b[1;32m<ipython-input-31-4a88eec5ecd4>\u001b[0m in \u001b[0;36m<module>\u001b[1;34m()\u001b[0m\n\u001b[0;32m      5\u001b[0m \u001b[1;31m#print(ins[index1])\u001b[0m\u001b[1;33m\u001b[0m\u001b[1;33m\u001b[0m\u001b[0m\n\u001b[0;32m      6\u001b[0m \u001b[0mprint\u001b[0m\u001b[1;33m(\u001b[0m\u001b[0mindex1\u001b[0m\u001b[1;33m[\u001b[0m\u001b[1;36m0\u001b[0m\u001b[1;33m]\u001b[0m\u001b[1;33m)\u001b[0m\u001b[1;33m\u001b[0m\u001b[0m\n\u001b[1;32m----> 7\u001b[1;33m \u001b[0mprint\u001b[0m\u001b[1;33m(\u001b[0m\u001b[0mins\u001b[0m\u001b[1;33m[\u001b[0m\u001b[0mindex1\u001b[0m\u001b[1;33m[\u001b[0m\u001b[1;36m0\u001b[0m\u001b[1;33m]\u001b[0m\u001b[1;33m]\u001b[0m\u001b[1;33m[\u001b[0m\u001b[0mindex1\u001b[0m\u001b[1;33m[\u001b[0m\u001b[1;36m1\u001b[0m\u001b[1;33m]\u001b[0m\u001b[1;33m]\u001b[0m\u001b[1;33m[\u001b[0m\u001b[0mindex1\u001b[0m\u001b[1;33m[\u001b[0m\u001b[1;36m2\u001b[0m\u001b[1;33m]\u001b[0m\u001b[1;33m]\u001b[0m\u001b[1;33m)\u001b[0m\u001b[1;33m\u001b[0m\u001b[0m\n\u001b[0m",
      "\u001b[1;31mIndexError\u001b[0m: index 255 is out of bounds for axis 0 with size 3"
     ]
    }
   ],
   "source": [
    "arr = np.random.randint(0,10, (3,4))  \n",
    "index = np.argwhere(arr < 5)\n",
    "\n",
    "index1 = np.argwhere(ins == 255)\n",
    "#print(ins[index1])\n",
    "print(index1[0])\n",
    "print(ins[index1[0]][index1[1]][index1[2]])"
   ]
  },
  {
   "cell_type": "code",
   "execution_count": 38,
   "metadata": {},
   "outputs": [
    {
     "name": "stdout",
     "output_type": "stream",
     "text": [
      "(480, 640, 3)\n",
      "[255   0   0]\n",
      "[1 0 0]\n",
      "[0 0 0]\n",
      "<class 'numpy.ndarray'>\n",
      "<class 'numpy.uint8'>\n"
     ]
    },
    {
     "data": {
      "text/plain": [
       "True"
      ]
     },
     "execution_count": 38,
     "metadata": {},
     "output_type": "execute_result"
    }
   ],
   "source": [
    "if ins.any()==255:\n",
    "    print(\"yes\") \n",
    "else:\n",
    "    print('no')\n",
    "\n",
    "#alpha_full = np.zeros(backg.shape, dtype=backg.dtype)\n",
    "#ins_full = alpha_full.copy()\n",
    "#alpha_full[0:100,0:100] += backg[0:100,0:100]\n",
    "\n",
    "print(ins.shape)\n",
    "b,g,r = cv2.split(ins)\n",
    "z = np.zeros(b.shape, dtype=b.dtype)\n",
    "#print(r[300])\n",
    "b_new_1 = cv2.merge((b,z,z))\n",
    "b_new_2 = cv2.merge((b,b,b))\n",
    "\n",
    "#cv2.imwrite(\"blue_2.png\",b_new_2)\n",
    "\n",
    "#======================================================\n",
    "np_arr = np.array([[0 ,0, 1, 1],[1,0,1,1]])\n",
    "#print(np_arr)\n",
    "#print(np.int64(np_arr==255))\n",
    "#==========================================================\n",
    "\n",
    "b_new_imp = np.uint8(b_new_1==255)\n",
    "print(b_new_1[400][500])\n",
    "print(b_new_1[0][0])\n",
    "print(b_new_imp[0][0])\n",
    "\n",
    "print(type(ins[0][0]))\n",
    "print(type(b_new_imp[0][0][0]))\n",
    "\n",
    "cv2.imwrite(\"blue_imp.png\",b_new_imp)"
   ]
  },
  {
   "cell_type": "code",
   "execution_count": 102,
   "metadata": {},
   "outputs": [
    {
     "name": "stdout",
     "output_type": "stream",
     "text": [
      "[{'name': [1, 2, 3, 4], 'url': 'COCO'}, {'name': 'sport', 'url': 'COCO'}, {'name': 'tv', 'url': 'COCO_1'}, {'background': 'cc'}]\n",
      "test\n"
     ]
    }
   ],
   "source": [
    "info = {\n",
    "    \"name\":\"hjc\",\n",
    "    \"age\":22\n",
    "}\n",
    "alist = [1,2,3,4]\n",
    "dic = {\n",
    "\"COCO_conver\": [\n",
    "\t\t{ \"name\":alist , \"url\":\"COCO\" }, \n",
    "\t\t{ \"name\":\"sport\" , \"url\":\"COCO\" }, \n",
    "\t\t{ \"name\":\"tv\" , \"url\":\"COCO_1\" }\n",
    "\t]\n",
    "}\n",
    "dic[\"COCO_conver\"].append({\"background\":\"cc\"})\n",
    "dic.update({\"yes\":\"test\"})\n",
    "with open(\"a1.txt\",\"w\",encoding=\"utf-8\") as f:\n",
    "    f.write(json.dumps(dic))\n",
    "for i in dic:\n",
    "    print(dic[i])"
   ]
  },
  {
   "cell_type": "code",
   "execution_count": 79,
   "metadata": {},
   "outputs": [
    {
     "name": "stdout",
     "output_type": "stream",
     "text": [
      "[1, 2, 3, 4]\n"
     ]
    }
   ],
   "source": [
    "with open(\"a1.txt\",\"r\",encoding=\"utf-8\") as f:\n",
    "    data = json.loads(f.readline())\n",
    "    print(data[\"COCO_conver\"][0][\"name\"])"
   ]
  },
  {
   "cell_type": "code",
   "execution_count": 66,
   "metadata": {},
   "outputs": [
    {
     "name": "stdout",
     "output_type": "stream",
     "text": [
      "(389, 600, 3)\n",
      "1\n",
      "25\n",
      "0.04\n"
     ]
    }
   ],
   "source": [
    "print(gt.shape)\n",
    "def judge(pix):\n",
    "    if pix[0] > 0 or pix[1] > 0 or pix[2] > 0:\n",
    "        return 1\n",
    "    else:\n",
    "        return 0\n",
    "\n",
    "n = gt[0:5,0:5].copy()\n",
    "n[1][1][1] = 2\n",
    "\n",
    "print(get_area(n))"
   ]
  },
  {
   "cell_type": "code",
   "execution_count": 96,
   "metadata": {},
   "outputs": [
    {
     "name": "stdout",
     "output_type": "stream",
     "text": [
      "abcdefg\n"
     ]
    }
   ],
   "source": [
    "a = '1:abcdefg'\n",
    "print(a[2:])"
   ]
  },
  {
   "cell_type": "code",
   "execution_count": 15,
   "metadata": {},
   "outputs": [],
   "source": [
    "def replace_color(img, src_clr, dst_clr):\n",
    "    img_arr = np.asarray(img, dtype=np.double)   \n",
    "    #分离通道\n",
    "    r_img = img_arr[:,:,0].copy()\n",
    "    g_img = img_arr[:,:,1].copy()\n",
    "    b_img = img_arr[:,:,2].copy()\n",
    "\n",
    "\t#编码\n",
    "    img = r_img * 256 * 256 + g_img * 256 + b_img\n",
    "    src_color = src_clr[0] * 256 * 256 + src_clr[1] * 256 + src_clr[2]\n",
    "    \n",
    "    #索引并替换颜色\n",
    "    r_img[img == src_color] = dst_clr[0]\n",
    "    g_img[img == src_color] = dst_clr[1]\n",
    "    b_img[img == src_color] = dst_clr[2]\n",
    "    \n",
    "    #合并通道\n",
    "    dst_img = np.array([r_img, g_img, b_img], dtype=np.uint8)\n",
    "    #将数据转换为图像数据(h,w,c)\n",
    "    dst_img = dst_img.transpose(1,2,0) \n",
    "    return dst_img"
   ]
  },
  {
   "cell_type": "code",
   "execution_count": 20,
   "metadata": {},
   "outputs": [],
   "source": [
    "img = Image.open(\"blue.png\").convert('RGB')\n",
    "dst_img = replace_color(img, (255,0,0), (0,0,255))\n",
    "\n",
    "res_img = dst_img\n",
    "res_img = Image.fromarray(res_img)\n",
    "res_img.save(\"blue_trans.png\")"
   ]
  },
  {
   "cell_type": "code",
   "execution_count": 25,
   "metadata": {},
   "outputs": [
    {
     "name": "stdout",
     "output_type": "stream",
     "text": [
      "[[0 0 1 1]\n",
      " [1 0 1 1]]\n",
      "[[0 0 0 0]\n",
      " [0 0 0 0]]\n"
     ]
    }
   ],
   "source": [
    "np_arr = np.array([[0 ,0, 1, 1],[1,0,1,1]])\n",
    "print(np_arr)\n",
    "print(np.int64(np_arr==255))"
   ]
  },
  {
   "cell_type": "code",
   "execution_count": null,
   "metadata": {},
   "outputs": [],
   "source": []
  }
 ],
 "metadata": {
  "kernelspec": {
   "display_name": "Python 3",
   "language": "python",
   "name": "python3"
  },
  "language_info": {
   "codemirror_mode": {
    "name": "ipython",
    "version": 3
   },
   "file_extension": ".py",
   "mimetype": "text/x-python",
   "name": "python",
   "nbconvert_exporter": "python",
   "pygments_lexer": "ipython3",
   "version": "3.6.4"
  }
 },
 "nbformat": 4,
 "nbformat_minor": 2
}
